{
 "cells": [
  {
   "cell_type": "markdown",
   "metadata": {
    "slideshow": {
     "slide_type": "slide"
    }
   },
   "source": [
    "CEO-Request Challenge"
   ]
  },
  {
   "cell_type": "markdown",
   "metadata": {
    "slideshow": {
     "slide_type": "subslide"
    }
   },
   "source": [
    "Problem statement (summarized)\n",
    "\n",
    "How should Olist improve it's profit margin, given that it has\n",
    "- revenues per sellers per months\n",
    "- revenues per orders\n",
    "- reputation costs (estimated) per bad reviews\n",
    "- operational costs of IT system that grows with number of orders, but not linearly (scale effects)"
   ]
  },
  {
   "cell_type": "markdown",
   "metadata": {
    "slideshow": {
     "slide_type": "subslide"
    }
   },
   "source": [
    "Unit Economics\n",
    "Revenue\n",
    "\n",
    "Olist takes a 10% cut on the product price (excl. freight) of each order delivered.\n",
    "Olist charges 80 BRL by month per seller.\n",
    "Cost\n",
    "\n",
    "In the long term, bad customer experience has business implications: low repeat rate, immediate customer support cost, refunds or unfavorable word of mouth communication. We will assume that we have an estimate measure of the monetary cost for each bad review:\n",
    "review_score\tcost (BRL)\n",
    "1 star\t100\n",
    "2 stars\t50\n",
    "3 stars\t40\n",
    "4 stars\t0\n",
    "5 stars\t0\n",
    "In addition, Olist’s IT costs (servers, etc…) increase with the amount of orders processed, albeit less and less rapidly (scale effects).\n",
    "For the sake of simplicity, we will consider Olist’s total cumulated IT Costs to be proportional to the square-root of the total cumulated number of orders approved.\n",
    "The IT department also told you that since the birth of the marketplace, cumulated IT costs have amounted to 500,000 BRL."
   ]
  },
  {
   "cell_type": "markdown",
   "metadata": {
    "slideshow": {
     "slide_type": "skip"
    }
   },
   "source": [
    "We advise you to start with the following analysis\n",
    "\n",
    "🕵🏻 **Should Olist remove underperforming sellers from its marketplace ?**\n",
    "\n",
    "To analyse the impact of removing the worse sellers from Olist's marketplace, we will perform a what-if analysis: What would have happened if Olist had never accepted these sellers in the first place? (granted, it's hard to know in advance who is a good seller, but let's start with this and iterate later).\n",
    "\n",
    "1️⃣ Compute, for each `seller_id`, and cumulated since the beginning:\n",
    "- the `revenues` it brings\n",
    "- the `costs` associated with all its bad reviews\n",
    "- the resulting `profits` (revenues - costs)\n",
    "- the number of `orders` (it will impact the overall IT costs)\n",
    "\n",
    "\n",
    "2️⃣ We can then:\n",
    "- sort sellers by increasing profits for Olist\n",
    "- for each number of sellers to remove, compute the financial impact it would have made if they had never been accepted on the platform. \n",
    "- we may find an optimal number of sellers to remove that maximizes Olist's profit margin"
   ]
  },
  {
   "cell_type": "markdown",
   "metadata": {
    "slideshow": {
     "slide_type": "skip"
    }
   },
   "source": [
    "👉 Write down a detailed strategy (step by step) to create the DataFrame you need for the first step.\n",
    "\n",
    "💡Think about how to re-use or update the logic you've already coded in your 🗂 `olist` package"
   ]
  },
  {
   "cell_type": "markdown",
   "metadata": {
    "slideshow": {
     "slide_type": "skip"
    }
   },
   "source": [
    "<details>\n",
    "    <summary>- <i>Hints</i> -</summary>\n",
    "\n",
    "\n",
    "Starting from your current `seller().get_training_data()` DataFrame, can you easily transform it to compute:\n",
    "- Olist's positive `revenue_per_seller`? \n",
    "- Olist's `cost_of_bad_reviews`?\n",
    "\n",
    "⚠️ Do no start from scratch ! Investigate your source code in `seller.py` : \n",
    "\n",
    "</details>\n"
   ]
  },
  {
   "cell_type": "markdown",
   "metadata": {
    "slideshow": {
     "slide_type": "skip"
    }
   },
   "source": [
    "Revenues_per_seller = sales\n",
    "cost_of_bad_reviews = calculate cost of each review from the seller and sum"
   ]
  },
  {
   "cell_type": "markdown",
   "metadata": {
    "slideshow": {
     "slide_type": "skip"
    }
   },
   "source": [
    "🧺 Keep this notebook tidy! \n",
    "\n",
    "📅 🗣 📊 You will present your insights to Olist's CEO next time, after the `Communicate your Data Analysis insights` day!"
   ]
  },
  {
   "cell_type": "code",
   "execution_count": 1,
   "metadata": {
    "slideshow": {
     "slide_type": "skip"
    }
   },
   "outputs": [],
   "source": [
    "import pandas as pd\n",
    "import numpy as np \n",
    "import seaborn as sns\n",
    "import matplotlib.pyplot as plt\n",
    "import statsmodels.formula.api as smf\n",
    "from scipy import stats\n",
    "from olist.product import Product\n",
    "from olist.data import Olist\n",
    "from olist.order import Order\n",
    "%load_ext autoreload\n",
    "%autoreload 2"
   ]
  },
  {
   "cell_type": "code",
   "execution_count": 2,
   "metadata": {
    "slideshow": {
     "slide_type": "skip"
    }
   },
   "outputs": [],
   "source": [
    "from olist.seller import Seller\n",
    "sellers = Seller().get_training_data()"
   ]
  },
  {
   "cell_type": "markdown",
   "metadata": {
    "slideshow": {
     "slide_type": "slide"
    }
   },
   "source": [
    "# First approach: Removing worst sellers\n",
    "## 10 Worst sellers finnancial costs"
   ]
  },
  {
   "cell_type": "code",
   "execution_count": 3,
   "metadata": {
    "slideshow": {
     "slide_type": "fragment"
    },
    "tags": [
     "remove_input"
    ]
   },
   "outputs": [
    {
     "data": {
      "text/html": [
       "<div>\n",
       "<style scoped>\n",
       "    .dataframe tbody tr th:only-of-type {\n",
       "        vertical-align: middle;\n",
       "    }\n",
       "\n",
       "    .dataframe tbody tr th {\n",
       "        vertical-align: top;\n",
       "    }\n",
       "\n",
       "    .dataframe thead th {\n",
       "        text-align: right;\n",
       "    }\n",
       "</style>\n",
       "<table border=\"1\" class=\"dataframe\">\n",
       "  <thead>\n",
       "    <tr style=\"text-align: right;\">\n",
       "      <th></th>\n",
       "      <th>bad_review_cost</th>\n",
       "      <th>revenue_per_seller</th>\n",
       "      <th>profit_per_seller</th>\n",
       "    </tr>\n",
       "  </thead>\n",
       "  <tbody>\n",
       "    <tr>\n",
       "      <th>769</th>\n",
       "      <td>40120</td>\n",
       "      <td>13770.0</td>\n",
       "      <td>-26393.0</td>\n",
       "    </tr>\n",
       "    <tr>\n",
       "      <th>453</th>\n",
       "      <td>37490</td>\n",
       "      <td>12054.0</td>\n",
       "      <td>-25474.0</td>\n",
       "    </tr>\n",
       "    <tr>\n",
       "      <th>1132</th>\n",
       "      <td>44290</td>\n",
       "      <td>20232.0</td>\n",
       "      <td>-24089.0</td>\n",
       "    </tr>\n",
       "    <tr>\n",
       "      <th>2358</th>\n",
       "      <td>44620</td>\n",
       "      <td>21647.0</td>\n",
       "      <td>-23015.0</td>\n",
       "    </tr>\n",
       "    <tr>\n",
       "      <th>1357</th>\n",
       "      <td>31070</td>\n",
       "      <td>11949.0</td>\n",
       "      <td>-19162.0</td>\n",
       "    </tr>\n",
       "    <tr>\n",
       "      <th>945</th>\n",
       "      <td>22560</td>\n",
       "      <td>4678.0</td>\n",
       "      <td>-17916.0</td>\n",
       "    </tr>\n",
       "    <tr>\n",
       "      <th>2603</th>\n",
       "      <td>31290</td>\n",
       "      <td>15017.0</td>\n",
       "      <td>-16303.0</td>\n",
       "    </tr>\n",
       "    <tr>\n",
       "      <th>315</th>\n",
       "      <td>18460</td>\n",
       "      <td>2554.0</td>\n",
       "      <td>-15937.0</td>\n",
       "    </tr>\n",
       "    <tr>\n",
       "      <th>1213</th>\n",
       "      <td>17480</td>\n",
       "      <td>3562.0</td>\n",
       "      <td>-13940.0</td>\n",
       "    </tr>\n",
       "    <tr>\n",
       "      <th>2687</th>\n",
       "      <td>15720</td>\n",
       "      <td>4294.0</td>\n",
       "      <td>-11446.0</td>\n",
       "    </tr>\n",
       "  </tbody>\n",
       "</table>\n",
       "</div>"
      ],
      "text/plain": [
       "      bad_review_cost  revenue_per_seller  profit_per_seller\n",
       "769             40120             13770.0           -26393.0\n",
       "453             37490             12054.0           -25474.0\n",
       "1132            44290             20232.0           -24089.0\n",
       "2358            44620             21647.0           -23015.0\n",
       "1357            31070             11949.0           -19162.0\n",
       "945             22560              4678.0           -17916.0\n",
       "2603            31290             15017.0           -16303.0\n",
       "315             18460              2554.0           -15937.0\n",
       "1213            17480              3562.0           -13940.0\n",
       "2687            15720              4294.0           -11446.0"
      ]
     },
     "execution_count": 3,
     "metadata": {},
     "output_type": "execute_result"
    }
   ],
   "source": [
    "sellers.sort_values('profit_per_seller').head(10)[['bad_review_cost', 'revenue_per_seller','profit_per_seller']].round()"
   ]
  },
  {
   "cell_type": "markdown",
   "metadata": {
    "slideshow": {
     "slide_type": "subslide"
    }
   },
   "source": [
    "## Financial impact of removing top 10 worst sellers"
   ]
  },
  {
   "cell_type": "code",
   "execution_count": 4,
   "metadata": {
    "scrolled": true,
    "slideshow": {
     "slide_type": "fragment"
    },
    "tags": [
     "remove_input"
    ]
   },
   "outputs": [
    {
     "data": {
      "text/plain": [
       "Savings on bad_reviews_costs:   -193676.0\n",
       "Revenue lost:                    109758.0\n",
       "Number of orders:                 11703.0\n",
       "dtype: float64"
      ]
     },
     "execution_count": 4,
     "metadata": {},
     "output_type": "execute_result"
    }
   ],
   "source": [
    "sellers_agg = sellers.sort_values('profit_per_seller').head(10).agg({'profit_per_seller': 'sum','revenue_per_seller': 'sum', 'n_orders': 'sum'}).rename({'profit_per_seller': 'Savings on bad_reviews_costs:', 'revenue_per_seller': 'Revenue lost:', 'n_orders': 'Number of orders:'}).round()\n",
    "sellers_agg"
   ]
  },
  {
   "cell_type": "markdown",
   "metadata": {
    "slideshow": {
     "slide_type": "subslide"
    }
   },
   "source": [
    "## Financial impact of removing top 30 worst sellers"
   ]
  },
  {
   "cell_type": "code",
   "execution_count": 5,
   "metadata": {
    "slideshow": {
     "slide_type": "fragment"
    },
    "tags": [
     "remove_input"
    ]
   },
   "outputs": [
    {
     "data": {
      "text/plain": [
       "Savings on bad_reviews_costs:   -319669.0\n",
       "Revenue lost:                    212691.0\n",
       "Number of orders:                 21439.0\n",
       "dtype: float64"
      ]
     },
     "execution_count": 5,
     "metadata": {},
     "output_type": "execute_result"
    }
   ],
   "source": [
    "sellers_agg2 = sellers.sort_values('profit_per_seller').head(30).agg({'profit_per_seller': 'sum','revenue_per_seller': 'sum', 'n_orders': 'sum'}).rename({'profit_per_seller': 'Savings on bad_reviews_costs:', 'revenue_per_seller': 'Revenue lost:', 'n_orders': 'Number of orders:'}).round()\n",
    "sellers_agg2"
   ]
  },
  {
   "cell_type": "markdown",
   "metadata": {
    "slideshow": {
     "slide_type": "subslide"
    }
   },
   "source": [
    "## Financial impact of removing top 50 worst sellers"
   ]
  },
  {
   "cell_type": "code",
   "execution_count": 6,
   "metadata": {
    "slideshow": {
     "slide_type": "fragment"
    },
    "tags": [
     "remove_input"
    ]
   },
   "outputs": [
    {
     "data": {
      "text/plain": [
       "Savings on bad_reviews_costs:   -380148.0\n",
       "Revenue lost:                    280091.0\n",
       "Number of orders:                 27033.0\n",
       "dtype: float64"
      ]
     },
     "execution_count": 6,
     "metadata": {},
     "output_type": "execute_result"
    }
   ],
   "source": [
    "sellers_agg3 = sellers.sort_values('profit_per_seller').head(50).agg({'profit_per_seller': 'sum','revenue_per_seller': 'sum', 'n_orders': 'sum'}).rename({'profit_per_seller': 'Savings on bad_reviews_costs:', 'revenue_per_seller': 'Revenue lost:', 'n_orders': 'Number of orders:'}).round()\n",
    "sellers_agg3"
   ]
  },
  {
   "cell_type": "code",
   "execution_count": 7,
   "metadata": {
    "slideshow": {
     "slide_type": "skip"
    }
   },
   "outputs": [],
   "source": [
    "products_categories = Product().get_product_cat()"
   ]
  },
  {
   "cell_type": "code",
   "execution_count": 8,
   "metadata": {
    "slideshow": {
     "slide_type": "skip"
    }
   },
   "outputs": [],
   "source": [
    "lowest_10_ratings = products_categories.sort_values('review_score', ascending = False).nsmallest(10,'review_score')"
   ]
  },
  {
   "cell_type": "code",
   "execution_count": 9,
   "metadata": {
    "slideshow": {
     "slide_type": "skip"
    },
    "tags": [
     "remove_input"
    ]
   },
   "outputs": [
    {
     "data": {
      "image/png": "[encoded data removed]",
      "text/plain": [
       "<Figure size 432x288 with 1 Axes>"
      ]
     },
     "metadata": {
      "needs_background": "light"
     },
     "output_type": "display_data"
    }
   ],
   "source": [
    "sns.barplot(data = lowest_10_ratings, x = 'review_score', y = lowest_10_ratings.index)\n",
    "plt.title('Top 10 Lowest Product Ratings')\n",
    "plt.xlabel('Average Rating')\n",
    "plt.ylabel('category');"
   ]
  },
  {
   "cell_type": "code",
   "execution_count": 10,
   "metadata": {
    "slideshow": {
     "slide_type": "skip"
    }
   },
   "outputs": [],
   "source": [
    "highest_share_of_one_star = products_categories.sort_values('share_of_one_stars', ascending = False).nlargest(10,'share_of_one_stars')"
   ]
  },
  {
   "cell_type": "code",
   "execution_count": 11,
   "metadata": {
    "slideshow": {
     "slide_type": "skip"
    }
   },
   "outputs": [
    {
     "data": {
      "image/png": "[encoded data removed]",
      "text/plain": [
       "<Figure size 432x288 with 1 Axes>"
      ]
     },
     "metadata": {
      "needs_background": "light"
     },
     "output_type": "display_data"
    }
   ],
   "source": [
    "sns.barplot(data = highest_share_of_one_star, x = 'share_of_one_stars', y = highest_share_of_one_star.index)\n",
    "plt.title('Top 10 Share of one stars')\n",
    "plt.xlabel('share_of_one_stars')\n",
    "plt.ylabel('category');"
   ]
  },
  {
   "cell_type": "markdown",
   "metadata": {
    "slideshow": {
     "slide_type": "slide"
    }
   },
   "source": [
    "# Second approach: Removing worst performing product categories"
   ]
  },
  {
   "cell_type": "code",
   "execution_count": 12,
   "metadata": {
    "slideshow": {
     "slide_type": "skip"
    }
   },
   "outputs": [],
   "source": [
    "orders = Order().get_training_data()[['order_id', 'review_score']]\n",
    "orders['cost'] = orders['review_score'].map({1: 100, 2: 50, 3: 40, 4: 0, 5: 0})\n",
    "data = Olist().get_data()\n",
    "products = Product().get_training_data()\n",
    "oc = data['order_items'][['order_id', 'product_id']].drop_duplicates(subset=['order_id', 'product_id'])\n",
    "category_reviews = orders[['order_id', 'cost']].merge(oc, on='order_id').merge(products, on='product_id')\n",
    "category_cost = category_reviews.groupby('category')['cost'].sum().reset_index()\n",
    "products_categories = products_categories.merge(category_cost, on='category')"
   ]
  },
  {
   "cell_type": "markdown",
   "metadata": {
    "slideshow": {
     "slide_type": "subslide"
    }
   },
   "source": [
    "## Lowest profit categories"
   ]
  },
  {
   "cell_type": "code",
   "execution_count": 13,
   "metadata": {
    "slideshow": {
     "slide_type": "skip"
    }
   },
   "outputs": [],
   "source": [
    "products_categories['revenue'] = products_categories.sales * 0.1\n",
    "products_categories['profit'] = products_categories.revenue - products_categories.cost\n",
    "products_categories.sort_values('profit', ascending = True)\n",
    "lowest_profit_categories = products_categories.sort_values('profit', ascending = False).nsmallest(10,'profit')"
   ]
  },
  {
   "cell_type": "code",
   "execution_count": 14,
   "metadata": {
    "slideshow": {
     "slide_type": "fragment"
    },
    "tags": [
     "remove_input"
    ]
   },
   "outputs": [
    {
     "data": {
      "text/html": [
       "<div>\n",
       "<style scoped>\n",
       "    .dataframe tbody tr th:only-of-type {\n",
       "        vertical-align: middle;\n",
       "    }\n",
       "\n",
       "    .dataframe tbody tr th {\n",
       "        vertical-align: top;\n",
       "    }\n",
       "\n",
       "    .dataframe thead th {\n",
       "        text-align: right;\n",
       "    }\n",
       "</style>\n",
       "<table border=\"1\" class=\"dataframe\">\n",
       "  <thead>\n",
       "    <tr style=\"text-align: right;\">\n",
       "      <th></th>\n",
       "      <th>category</th>\n",
       "      <th>n_orders</th>\n",
       "      <th>sales</th>\n",
       "      <th>cost</th>\n",
       "      <th>revenue</th>\n",
       "      <th>profit</th>\n",
       "    </tr>\n",
       "  </thead>\n",
       "  <tbody>\n",
       "    <tr>\n",
       "      <th>7</th>\n",
       "      <td>bed_bath_table</td>\n",
       "      <td>10101</td>\n",
       "      <td>1030834.98</td>\n",
       "      <td>195300</td>\n",
       "      <td>103083.498</td>\n",
       "      <td>-92216.502</td>\n",
       "    </tr>\n",
       "    <tr>\n",
       "      <th>39</th>\n",
       "      <td>furniture_decor</td>\n",
       "      <td>6699</td>\n",
       "      <td>718171.91</td>\n",
       "      <td>118590</td>\n",
       "      <td>71817.191</td>\n",
       "      <td>-46772.809</td>\n",
       "    </tr>\n",
       "    <tr>\n",
       "      <th>68</th>\n",
       "      <td>telephony</td>\n",
       "      <td>4256</td>\n",
       "      <td>318839.15</td>\n",
       "      <td>69730</td>\n",
       "      <td>31883.915</td>\n",
       "      <td>-37846.085</td>\n",
       "    </tr>\n",
       "    <tr>\n",
       "      <th>15</th>\n",
       "      <td>computers_accessories</td>\n",
       "      <td>6840</td>\n",
       "      <td>899465.74</td>\n",
       "      <td>114040</td>\n",
       "      <td>89946.574</td>\n",
       "      <td>-24093.426</td>\n",
       "    </tr>\n",
       "    <tr>\n",
       "      <th>26</th>\n",
       "      <td>electronics</td>\n",
       "      <td>2555</td>\n",
       "      <td>155703.17</td>\n",
       "      <td>37520</td>\n",
       "      <td>15570.317</td>\n",
       "      <td>-21949.683</td>\n",
       "    </tr>\n",
       "    <tr>\n",
       "      <th>49</th>\n",
       "      <td>housewares</td>\n",
       "      <td>5956</td>\n",
       "      <td>623828.14</td>\n",
       "      <td>82750</td>\n",
       "      <td>62382.814</td>\n",
       "      <td>-20367.186</td>\n",
       "    </tr>\n",
       "    <tr>\n",
       "      <th>28</th>\n",
       "      <td>fashion_bags_accessories</td>\n",
       "      <td>1957</td>\n",
       "      <td>150576.02</td>\n",
       "      <td>25780</td>\n",
       "      <td>15057.602</td>\n",
       "      <td>-10722.398</td>\n",
       "    </tr>\n",
       "    <tr>\n",
       "      <th>57</th>\n",
       "      <td>office_furniture</td>\n",
       "      <td>1293</td>\n",
       "      <td>269728.24</td>\n",
       "      <td>33310</td>\n",
       "      <td>26972.824</td>\n",
       "      <td>-6337.176</td>\n",
       "    </tr>\n",
       "    <tr>\n",
       "      <th>6</th>\n",
       "      <td>baby</td>\n",
       "      <td>2899</td>\n",
       "      <td>407673.24</td>\n",
       "      <td>46450</td>\n",
       "      <td>40767.324</td>\n",
       "      <td>-5682.676</td>\n",
       "    </tr>\n",
       "    <tr>\n",
       "      <th>65</th>\n",
       "      <td>sports_leisure</td>\n",
       "      <td>7798</td>\n",
       "      <td>976548.15</td>\n",
       "      <td>103100</td>\n",
       "      <td>97654.815</td>\n",
       "      <td>-5445.185</td>\n",
       "    </tr>\n",
       "  </tbody>\n",
       "</table>\n",
       "</div>"
      ],
      "text/plain": [
       "                    category  n_orders       sales    cost     revenue  \\\n",
       "7             bed_bath_table     10101  1030834.98  195300  103083.498   \n",
       "39           furniture_decor      6699   718171.91  118590   71817.191   \n",
       "68                 telephony      4256   318839.15   69730   31883.915   \n",
       "15     computers_accessories      6840   899465.74  114040   89946.574   \n",
       "26               electronics      2555   155703.17   37520   15570.317   \n",
       "49                housewares      5956   623828.14   82750   62382.814   \n",
       "28  fashion_bags_accessories      1957   150576.02   25780   15057.602   \n",
       "57          office_furniture      1293   269728.24   33310   26972.824   \n",
       "6                       baby      2899   407673.24   46450   40767.324   \n",
       "65            sports_leisure      7798   976548.15  103100   97654.815   \n",
       "\n",
       "       profit  \n",
       "7  -92216.502  \n",
       "39 -46772.809  \n",
       "68 -37846.085  \n",
       "15 -24093.426  \n",
       "26 -21949.683  \n",
       "49 -20367.186  \n",
       "28 -10722.398  \n",
       "57  -6337.176  \n",
       "6   -5682.676  \n",
       "65  -5445.185  "
      ]
     },
     "execution_count": 14,
     "metadata": {},
     "output_type": "execute_result"
    }
   ],
   "source": [
    "lowest_profit_categories[['category', 'n_orders', 'sales', 'cost', 'revenue', 'profit']]"
   ]
  },
  {
   "cell_type": "code",
   "execution_count": 15,
   "metadata": {
    "slideshow": {
     "slide_type": "fragment"
    },
    "tags": [
     "remove_input"
    ]
   },
   "outputs": [
    {
     "data": {
      "image/png": "[encoded data removed]",
      "text/plain": [
       "<Figure size 432x288 with 1 Axes>"
      ]
     },
     "metadata": {
      "needs_background": "light"
     },
     "output_type": "display_data"
    }
   ],
   "source": [
    "sns.barplot(data = lowest_profit_categories, x = 'profit', y = lowest_profit_categories.category)\n",
    "plt.title('Worst perfoming categories')\n",
    "plt.xlabel('profits')\n",
    "plt.ylabel('category');"
   ]
  },
  {
   "cell_type": "markdown",
   "metadata": {
    "slideshow": {
     "slide_type": "subslide"
    }
   },
   "source": [
    "### Finnancial cost of removing 10 lowest profit categories"
   ]
  },
  {
   "cell_type": "code",
   "execution_count": 16,
   "metadata": {
    "slideshow": {
     "slide_type": "fragment"
    },
    "tags": [
     "remove_input"
    ]
   },
   "outputs": [
    {
     "data": {
      "text/plain": [
       "Savings on bad_reviews_costs:   -271433.0\n",
       "Revenue lost:                    555137.0\n",
       "Number of orders:                 50354.0\n",
       "dtype: float64"
      ]
     },
     "execution_count": 16,
     "metadata": {},
     "output_type": "execute_result"
    }
   ],
   "source": [
    "lowest_profit_categories.agg({'profit': 'sum','revenue': 'sum', 'n_orders': 'sum'}).rename({'profit': 'Savings on bad_reviews_costs:', 'revenue': 'Revenue lost:', 'n_orders': 'Number of orders:'}).round()"
   ]
  },
  {
   "cell_type": "code",
   "execution_count": 17,
   "metadata": {
    "slideshow": {
     "slide_type": "skip"
    }
   },
   "outputs": [],
   "source": [
    "products_categories['cost vs revenues'] = round((products_categories.cost / products_categories.revenue), 2)"
   ]
  },
  {
   "cell_type": "markdown",
   "metadata": {
    "slideshow": {
     "slide_type": "subslide"
    }
   },
   "source": [
    "## Worst categories costs vs revenues"
   ]
  },
  {
   "cell_type": "code",
   "execution_count": 18,
   "metadata": {
    "slideshow": {
     "slide_type": "fragment"
    },
    "tags": [
     "remove_input"
    ]
   },
   "outputs": [
    {
     "data": {
      "text/html": [
       "<div>\n",
       "<style scoped>\n",
       "    .dataframe tbody tr th:only-of-type {\n",
       "        vertical-align: middle;\n",
       "    }\n",
       "\n",
       "    .dataframe tbody tr th {\n",
       "        vertical-align: top;\n",
       "    }\n",
       "\n",
       "    .dataframe thead th {\n",
       "        text-align: right;\n",
       "    }\n",
       "</style>\n",
       "<table border=\"1\" class=\"dataframe\">\n",
       "  <thead>\n",
       "    <tr style=\"text-align: right;\">\n",
       "      <th></th>\n",
       "      <th>category</th>\n",
       "      <th>cost</th>\n",
       "      <th>revenue</th>\n",
       "      <th>profit</th>\n",
       "      <th>cost vs revenues</th>\n",
       "    </tr>\n",
       "  </thead>\n",
       "  <tbody>\n",
       "    <tr>\n",
       "      <th>46</th>\n",
       "      <td>home_comfort_2</td>\n",
       "      <td>530</td>\n",
       "      <td>76.027</td>\n",
       "      <td>-453.973</td>\n",
       "      <td>6.97</td>\n",
       "    </tr>\n",
       "    <tr>\n",
       "      <th>61</th>\n",
       "      <td>security_and_services</td>\n",
       "      <td>100</td>\n",
       "      <td>28.329</td>\n",
       "      <td>-71.671</td>\n",
       "      <td>3.53</td>\n",
       "    </tr>\n",
       "    <tr>\n",
       "      <th>23</th>\n",
       "      <td>diapers_and_hygiene</td>\n",
       "      <td>460</td>\n",
       "      <td>153.879</td>\n",
       "      <td>-306.121</td>\n",
       "      <td>2.99</td>\n",
       "    </tr>\n",
       "    <tr>\n",
       "      <th>30</th>\n",
       "      <td>fashion_male_clothing</td>\n",
       "      <td>2930</td>\n",
       "      <td>1030.723</td>\n",
       "      <td>-1899.277</td>\n",
       "      <td>2.84</td>\n",
       "    </tr>\n",
       "    <tr>\n",
       "      <th>27</th>\n",
       "      <td>fashio_female_clothing</td>\n",
       "      <td>730</td>\n",
       "      <td>270.974</td>\n",
       "      <td>-459.026</td>\n",
       "      <td>2.69</td>\n",
       "    </tr>\n",
       "    <tr>\n",
       "      <th>35</th>\n",
       "      <td>flowers</td>\n",
       "      <td>280</td>\n",
       "      <td>111.004</td>\n",
       "      <td>-168.996</td>\n",
       "      <td>2.52</td>\n",
       "    </tr>\n",
       "    <tr>\n",
       "      <th>26</th>\n",
       "      <td>electronics</td>\n",
       "      <td>37520</td>\n",
       "      <td>15570.317</td>\n",
       "      <td>-21949.683</td>\n",
       "      <td>2.41</td>\n",
       "    </tr>\n",
       "    <tr>\n",
       "      <th>3</th>\n",
       "      <td>arts_and_craftmanship</td>\n",
       "      <td>420</td>\n",
       "      <td>181.401</td>\n",
       "      <td>-238.599</td>\n",
       "      <td>2.32</td>\n",
       "    </tr>\n",
       "    <tr>\n",
       "      <th>68</th>\n",
       "      <td>telephony</td>\n",
       "      <td>69730</td>\n",
       "      <td>31883.915</td>\n",
       "      <td>-37846.085</td>\n",
       "      <td>2.19</td>\n",
       "    </tr>\n",
       "    <tr>\n",
       "      <th>12</th>\n",
       "      <td>christmas_supplies</td>\n",
       "      <td>1840</td>\n",
       "      <td>876.352</td>\n",
       "      <td>-963.648</td>\n",
       "      <td>2.10</td>\n",
       "    </tr>\n",
       "  </tbody>\n",
       "</table>\n",
       "</div>"
      ],
      "text/plain": [
       "                  category   cost    revenue     profit  cost vs revenues\n",
       "46          home_comfort_2    530     76.027   -453.973              6.97\n",
       "61   security_and_services    100     28.329    -71.671              3.53\n",
       "23     diapers_and_hygiene    460    153.879   -306.121              2.99\n",
       "30   fashion_male_clothing   2930   1030.723  -1899.277              2.84\n",
       "27  fashio_female_clothing    730    270.974   -459.026              2.69\n",
       "35                 flowers    280    111.004   -168.996              2.52\n",
       "26             electronics  37520  15570.317 -21949.683              2.41\n",
       "3    arts_and_craftmanship    420    181.401   -238.599              2.32\n",
       "68               telephony  69730  31883.915 -37846.085              2.19\n",
       "12      christmas_supplies   1840    876.352   -963.648              2.10"
      ]
     },
     "execution_count": 18,
     "metadata": {},
     "output_type": "execute_result"
    }
   ],
   "source": [
    "worst_performing_categories = products_categories.sort_values('cost vs revenues', ascending = False).nlargest(10,'cost vs revenues')\n",
    "worst_performing_categories[['category', 'cost','revenue','profit', 'cost vs revenues']]"
   ]
  },
  {
   "cell_type": "code",
   "execution_count": 19,
   "metadata": {
    "slideshow": {
     "slide_type": "fragment"
    },
    "tags": [
     "remove_input"
    ]
   },
   "outputs": [
    {
     "data": {
      "image/png": "[encoded data removed]",
      "text/plain": [
       "<Figure size 432x288 with 1 Axes>"
      ]
     },
     "metadata": {
      "needs_background": "light"
     },
     "output_type": "display_data"
    }
   ],
   "source": [
    "sns.barplot(data = products_categories, x = 'cost vs revenues', y = worst_performing_categories.category)\n",
    "plt.title('cost vs revenues')\n",
    "plt.xlabel('cost vs revenues')\n",
    "plt.ylabel('category');"
   ]
  },
  {
   "cell_type": "markdown",
   "metadata": {
    "slideshow": {
     "slide_type": "subslide"
    }
   },
   "source": [
    "## Should we, remove categories that are have higher cost vs revenues values?"
   ]
  },
  {
   "cell_type": "markdown",
   "metadata": {
    "slideshow": {
     "slide_type": "fragment"
    }
   },
   "source": [
    "### Finnancial impact of removing 10 worst performing categories:"
   ]
  },
  {
   "cell_type": "code",
   "execution_count": 20,
   "metadata": {
    "slideshow": {
     "slide_type": "fragment"
    },
    "tags": [
     "remove_input"
    ]
   },
   "outputs": [
    {
     "data": {
      "text/plain": [
       "Savings on bad_reviews_costs:   -64357.0\n",
       "Revenue lost:                    50183.0\n",
       "Number of orders:                 7198.0\n",
       "dtype: float64"
      ]
     },
     "execution_count": 20,
     "metadata": {},
     "output_type": "execute_result"
    }
   ],
   "source": [
    "ten_wpc_agg = worst_performing_categories.agg({'profit': 'sum','revenue': 'sum', 'n_orders': 'sum'}).rename({'profit': 'Savings on bad_reviews_costs:', 'revenue': 'Revenue lost:', 'n_orders': 'Number of orders:'}).round()\n",
    "ten_wpc_agg"
   ]
  },
  {
   "cell_type": "markdown",
   "metadata": {
    "slideshow": {
     "slide_type": "subslide"
    }
   },
   "source": [
    "### Finnancial impact of removing 15 worst performing categories:"
   ]
  },
  {
   "cell_type": "code",
   "execution_count": 22,
   "metadata": {
    "slideshow": {
     "slide_type": "fragment"
    },
    "tags": [
     "remove_input"
    ]
   },
   "outputs": [
    {
     "data": {
      "text/plain": [
       "Savings on bad_reviews_costs:   -170524.0\n",
       "Revenue lost:                    172616.0\n",
       "Number of orders:                 19864.0\n",
       "dtype: float64"
      ]
     },
     "execution_count": 22,
     "metadata": {},
     "output_type": "execute_result"
    }
   ],
   "source": [
    "fifteen_wpc = products_categories.sort_values('cost vs revenues', ascending = False).nlargest(15,'cost vs revenues')\n",
    "fifteen_wpc.agg({'profit': 'sum','revenue': 'sum', 'n_orders': 'sum'}).rename({'profit': 'Savings on bad_reviews_costs:', 'revenue': 'Revenue lost:', 'n_orders': 'Number of orders:'}).round()"
   ]
  },
  {
   "cell_type": "code",
   "execution_count": 23,
   "metadata": {
    "slideshow": {
     "slide_type": "skip"
    }
   },
   "outputs": [],
   "source": [
    "fifteen_wpc_agg = fifteen_wpc.agg({'profit': 'sum','revenue': 'sum', 'n_orders': 'sum'}).rename({'profit': 'Savings on bad_reviews_costs:', 'revenue': 'Revenue lost:', 'n_orders': 'Number of orders:'}).round()"
   ]
  },
  {
   "cell_type": "markdown",
   "metadata": {
    "slideshow": {
     "slide_type": "subslide"
    }
   },
   "source": [
    "### Finnancial impact of removing 20 worst performing categories:\n"
   ]
  },
  {
   "cell_type": "code",
   "execution_count": 25,
   "metadata": {
    "slideshow": {
     "slide_type": "fragment"
    },
    "tags": [
     "remove_input"
    ]
   },
   "outputs": [
    {
     "data": {
      "text/plain": [
       "Savings on bad_reviews_costs:   -226323.0\n",
       "Revenue lost:                    260297.0\n",
       "Number of orders:                 27897.0\n",
       "dtype: float64"
      ]
     },
     "execution_count": 25,
     "metadata": {},
     "output_type": "execute_result"
    }
   ],
   "source": [
    "twenty_wpc = products_categories.sort_values('cost vs revenues', ascending = False).nlargest(20,'cost vs revenues')\n",
    "twenty_wpc.agg = twenty_wpc.agg({'profit': 'sum','revenue': 'sum', 'n_orders': 'sum'}).rename({'profit': 'Savings on bad_reviews_costs:', 'revenue': 'Revenue lost:', 'n_orders': 'Number of orders:'}).round()\n",
    "twenty_wpc.agg"
   ]
  },
  {
   "cell_type": "code",
   "execution_count": 53,
   "metadata": {
    "slideshow": {
     "slide_type": "skip"
    }
   },
   "outputs": [],
   "source": [
    "worst_performing_sellers = sellers.sort_values('profit_per_seller', ascending = False).nsmallest(50,'profit_per_seller')['seller_id']"
   ]
  },
  {
   "cell_type": "code",
   "execution_count": 73,
   "metadata": {
    "slideshow": {
     "slide_type": "skip"
    }
   },
   "outputs": [],
   "source": [
    "monthly_sellers_reviews = Seller().get_monthly_reviews().reset_index()"
   ]
  },
  {
   "cell_type": "code",
   "execution_count": 74,
   "metadata": {
    "slideshow": {
     "slide_type": "skip"
    }
   },
   "outputs": [],
   "source": [
    "monthly_sellers_reviews = monthly_sellers_reviews.pivot(index='seller_id', columns='order_approved_at', values='bad_review_cost')"
   ]
  },
  {
   "cell_type": "code",
   "execution_count": 75,
   "metadata": {
    "slideshow": {
     "slide_type": "skip"
    }
   },
   "outputs": [],
   "source": [
    "worst_sellers_mr = monthly_sellers_reviews.merge(worst_performing_sellers, on='seller_id').set_index('seller_id')"
   ]
  },
  {
   "cell_type": "code",
   "execution_count": 76,
   "metadata": {
    "slideshow": {
     "slide_type": "skip"
    }
   },
   "outputs": [],
   "source": [
    "worst_sellers_mr2 = monthly_sellers_reviews.merge(worst_performing_sellers, on='seller_id').set_index('seller_id')"
   ]
  },
  {
   "cell_type": "code",
   "execution_count": 77,
   "metadata": {
    "slideshow": {
     "slide_type": "skip"
    }
   },
   "outputs": [],
   "source": [
    "ly_worst_sellers_mr = worst_sellers_mr.iloc[:,-11:-1]"
   ]
  },
  {
   "cell_type": "markdown",
   "metadata": {
    "slideshow": {
     "slide_type": "slide"
    }
   },
   "source": [
    "# Third approach: Removing sellers that are underperforming and not showing signs of improving"
   ]
  },
  {
   "cell_type": "markdown",
   "metadata": {
    "slideshow": {
     "slide_type": "subslide"
    }
   },
   "source": [
    "## Worst sellers reviews by month"
   ]
  },
  {
   "cell_type": "markdown",
   "metadata": {
    "slideshow": {
     "slide_type": "subslide"
    }
   },
   "source": [
    "## DataFrame showing the costs of bad reviews by seller and month"
   ]
  },
  {
   "cell_type": "code",
   "execution_count": 78,
   "metadata": {
    "slideshow": {
     "slide_type": "fragment"
    },
    "tags": [
     "remove_input"
    ]
   },
   "outputs": [
    {
     "data": {
      "text/html": [
       "<div>\n",
       "<style scoped>\n",
       "    .dataframe tbody tr th:only-of-type {\n",
       "        vertical-align: middle;\n",
       "    }\n",
       "\n",
       "    .dataframe tbody tr th {\n",
       "        vertical-align: top;\n",
       "    }\n",
       "\n",
       "    .dataframe thead th {\n",
       "        text-align: right;\n",
       "    }\n",
       "</style>\n",
       "<table border=\"1\" class=\"dataframe\">\n",
       "  <thead>\n",
       "    <tr style=\"text-align: right;\">\n",
       "      <th></th>\n",
       "      <th>2017-11-30 00:00:00</th>\n",
       "      <th>2017-12-31 00:00:00</th>\n",
       "      <th>2018-01-31 00:00:00</th>\n",
       "      <th>2018-02-28 00:00:00</th>\n",
       "      <th>2018-03-31 00:00:00</th>\n",
       "      <th>2018-04-30 00:00:00</th>\n",
       "      <th>2018-05-31 00:00:00</th>\n",
       "      <th>2018-06-30 00:00:00</th>\n",
       "      <th>2018-07-31 00:00:00</th>\n",
       "      <th>2018-08-31 00:00:00</th>\n",
       "    </tr>\n",
       "    <tr>\n",
       "      <th>seller_id</th>\n",
       "      <th></th>\n",
       "      <th></th>\n",
       "      <th></th>\n",
       "      <th></th>\n",
       "      <th></th>\n",
       "      <th></th>\n",
       "      <th></th>\n",
       "      <th></th>\n",
       "      <th></th>\n",
       "      <th></th>\n",
       "    </tr>\n",
       "  </thead>\n",
       "  <tbody>\n",
       "    <tr>\n",
       "      <th>06a2c3af7b3aee5d69171b0e14f0ee87</th>\n",
       "      <td>NaN</td>\n",
       "      <td>NaN</td>\n",
       "      <td>40.0</td>\n",
       "      <td>240.0</td>\n",
       "      <td>1110.0</td>\n",
       "      <td>590.0</td>\n",
       "      <td>2110.0</td>\n",
       "      <td>690.0</td>\n",
       "      <td>1750.0</td>\n",
       "      <td>660.0</td>\n",
       "    </tr>\n",
       "    <tr>\n",
       "      <th>1025f0e2d44d7041d6cf58b6550e0bfa</th>\n",
       "      <td>3200.0</td>\n",
       "      <td>180.0</td>\n",
       "      <td>1120.0</td>\n",
       "      <td>1280.0</td>\n",
       "      <td>2440.0</td>\n",
       "      <td>1560.0</td>\n",
       "      <td>2190.0</td>\n",
       "      <td>1630.0</td>\n",
       "      <td>530.0</td>\n",
       "      <td>1400.0</td>\n",
       "    </tr>\n",
       "    <tr>\n",
       "      <th>128639473a139ac0f3e5f5ade55873a5</th>\n",
       "      <td>730.0</td>\n",
       "      <td>470.0</td>\n",
       "      <td>1160.0</td>\n",
       "      <td>1280.0</td>\n",
       "      <td>1030.0</td>\n",
       "      <td>340.0</td>\n",
       "      <td>210.0</td>\n",
       "      <td>0.0</td>\n",
       "      <td>40.0</td>\n",
       "      <td>40.0</td>\n",
       "    </tr>\n",
       "    <tr>\n",
       "      <th>16090f2ca825584b5a147ab24aa30c86</th>\n",
       "      <td>0.0</td>\n",
       "      <td>330.0</td>\n",
       "      <td>130.0</td>\n",
       "      <td>710.0</td>\n",
       "      <td>780.0</td>\n",
       "      <td>780.0</td>\n",
       "      <td>620.0</td>\n",
       "      <td>490.0</td>\n",
       "      <td>930.0</td>\n",
       "      <td>890.0</td>\n",
       "    </tr>\n",
       "    <tr>\n",
       "      <th>1835b56ce799e6a4dc4eddc053f04066</th>\n",
       "      <td>2050.0</td>\n",
       "      <td>630.0</td>\n",
       "      <td>1450.0</td>\n",
       "      <td>1880.0</td>\n",
       "      <td>1120.0</td>\n",
       "      <td>1020.0</td>\n",
       "      <td>420.0</td>\n",
       "      <td>580.0</td>\n",
       "      <td>380.0</td>\n",
       "      <td>570.0</td>\n",
       "    </tr>\n",
       "  </tbody>\n",
       "</table>\n",
       "</div>"
      ],
      "text/plain": [
       "                                  2017-11-30 00:00:00  2017-12-31 00:00:00  \\\n",
       "seller_id                                                                    \n",
       "06a2c3af7b3aee5d69171b0e14f0ee87                  NaN                  NaN   \n",
       "1025f0e2d44d7041d6cf58b6550e0bfa               3200.0                180.0   \n",
       "128639473a139ac0f3e5f5ade55873a5                730.0                470.0   \n",
       "16090f2ca825584b5a147ab24aa30c86                  0.0                330.0   \n",
       "1835b56ce799e6a4dc4eddc053f04066               2050.0                630.0   \n",
       "\n",
       "                                  2018-01-31 00:00:00  2018-02-28 00:00:00  \\\n",
       "seller_id                                                                    \n",
       "06a2c3af7b3aee5d69171b0e14f0ee87                 40.0                240.0   \n",
       "1025f0e2d44d7041d6cf58b6550e0bfa               1120.0               1280.0   \n",
       "128639473a139ac0f3e5f5ade55873a5               1160.0               1280.0   \n",
       "16090f2ca825584b5a147ab24aa30c86                130.0                710.0   \n",
       "1835b56ce799e6a4dc4eddc053f04066               1450.0               1880.0   \n",
       "\n",
       "                                  2018-03-31 00:00:00  2018-04-30 00:00:00  \\\n",
       "seller_id                                                                    \n",
       "06a2c3af7b3aee5d69171b0e14f0ee87               1110.0                590.0   \n",
       "1025f0e2d44d7041d6cf58b6550e0bfa               2440.0               1560.0   \n",
       "128639473a139ac0f3e5f5ade55873a5               1030.0                340.0   \n",
       "16090f2ca825584b5a147ab24aa30c86                780.0                780.0   \n",
       "1835b56ce799e6a4dc4eddc053f04066               1120.0               1020.0   \n",
       "\n",
       "                                  2018-05-31 00:00:00  2018-06-30 00:00:00  \\\n",
       "seller_id                                                                    \n",
       "06a2c3af7b3aee5d69171b0e14f0ee87               2110.0                690.0   \n",
       "1025f0e2d44d7041d6cf58b6550e0bfa               2190.0               1630.0   \n",
       "128639473a139ac0f3e5f5ade55873a5                210.0                  0.0   \n",
       "16090f2ca825584b5a147ab24aa30c86                620.0                490.0   \n",
       "1835b56ce799e6a4dc4eddc053f04066                420.0                580.0   \n",
       "\n",
       "                                  2018-07-31 00:00:00  2018-08-31 00:00:00  \n",
       "seller_id                                                                   \n",
       "06a2c3af7b3aee5d69171b0e14f0ee87               1750.0                660.0  \n",
       "1025f0e2d44d7041d6cf58b6550e0bfa                530.0               1400.0  \n",
       "128639473a139ac0f3e5f5ade55873a5                 40.0                 40.0  \n",
       "16090f2ca825584b5a147ab24aa30c86                930.0                890.0  \n",
       "1835b56ce799e6a4dc4eddc053f04066                380.0                570.0  "
      ]
     },
     "execution_count": 78,
     "metadata": {},
     "output_type": "execute_result"
    }
   ],
   "source": [
    "worst_sellers_mr.iloc[:,-11:-1].head(5)"
   ]
  },
  {
   "cell_type": "markdown",
   "metadata": {
    "slideshow": {
     "slide_type": "subslide"
    }
   },
   "source": [
    "## These graphs show the bad_review_costs of two example sellers in the last 6 months"
   ]
  },
  {
   "cell_type": "code",
   "execution_count": 79,
   "metadata": {
    "slideshow": {
     "slide_type": "fragment"
    },
    "tags": [
     "remove_input"
    ]
   },
   "outputs": [
    {
     "data": {
      "image/png": "[encoded data removed]",
      "text/plain": [
       "<Figure size 432x288 with 1 Axes>"
      ]
     },
     "metadata": {
      "needs_background": "light"
     },
     "output_type": "display_data"
    }
   ],
   "source": [
    "worst_sellers_mr.iloc[10, 18:].plot()\n",
    "worst_sellers_mr.iloc[2, 18:].plot();"
   ]
  },
  {
   "cell_type": "markdown",
   "metadata": {
    "slideshow": {
     "slide_type": "fragment"
    }
   },
   "source": [
    "You can notice that one seller cost of bad reviews is decreasing over the last 6 months, and the other is increasing."
   ]
  },
  {
   "cell_type": "code",
   "execution_count": 80,
   "metadata": {
    "slideshow": {
     "slide_type": "skip"
    }
   },
   "outputs": [],
   "source": [
    "worst_sellers_mr[\"last 3 months costs\"] = worst_sellers_mr.iloc[:,-4:-1].sum(axis=1)\n",
    "worst_sellers_mr[\"6-3 months costs\"] = worst_sellers_mr.iloc[:,-7:-4].sum(axis=1)"
   ]
  },
  {
   "cell_type": "code",
   "execution_count": 83,
   "metadata": {
    "slideshow": {
     "slide_type": "skip"
    }
   },
   "outputs": [],
   "source": [
    "worst_sellers_mr[\"Improvement\"] =  worst_sellers_mr[\"6-3 months costs\"] - worst_sellers_mr[\"last 3 months costs\"]"
   ]
  },
  {
   "cell_type": "code",
   "execution_count": 85,
   "metadata": {
    "slideshow": {
     "slide_type": "skip"
    }
   },
   "outputs": [],
   "source": [
    "worst_sellers_mr.reset_index(inplace=True)"
   ]
  },
  {
   "cell_type": "markdown",
   "metadata": {
    "slideshow": {
     "slide_type": "subslide"
    }
   },
   "source": [
    "## Sellers that in the last 3 months performed worse than in the 3 months before"
   ]
  },
  {
   "cell_type": "code",
   "execution_count": 86,
   "metadata": {
    "slideshow": {
     "slide_type": "fragment"
    },
    "tags": [
     "remove_input"
    ]
   },
   "outputs": [
    {
     "data": {
      "text/html": [
       "<div>\n",
       "<style scoped>\n",
       "    .dataframe tbody tr th:only-of-type {\n",
       "        vertical-align: middle;\n",
       "    }\n",
       "\n",
       "    .dataframe tbody tr th {\n",
       "        vertical-align: top;\n",
       "    }\n",
       "\n",
       "    .dataframe thead th {\n",
       "        text-align: right;\n",
       "    }\n",
       "</style>\n",
       "<table border=\"1\" class=\"dataframe\">\n",
       "  <thead>\n",
       "    <tr style=\"text-align: right;\">\n",
       "      <th></th>\n",
       "      <th>seller_id</th>\n",
       "      <th>6-3 months costs</th>\n",
       "      <th>last 3 months costs</th>\n",
       "      <th>Improvement</th>\n",
       "    </tr>\n",
       "  </thead>\n",
       "  <tbody>\n",
       "    <tr>\n",
       "      <th>20</th>\n",
       "      <td>6560211a19b47992c3666cc44a7e94c0</td>\n",
       "      <td>6000.0</td>\n",
       "      <td>10640.0</td>\n",
       "      <td>-4640.0</td>\n",
       "    </tr>\n",
       "    <tr>\n",
       "      <th>48</th>\n",
       "      <td>f46490624488d3ff7ce78613913a7711</td>\n",
       "      <td>1470.0</td>\n",
       "      <td>2380.0</td>\n",
       "      <td>-910.0</td>\n",
       "    </tr>\n",
       "    <tr>\n",
       "      <th>26</th>\n",
       "      <td>85d9eb9ddc5d00ca9336a2219c97bb13</td>\n",
       "      <td>580.0</td>\n",
       "      <td>1030.0</td>\n",
       "      <td>-450.0</td>\n",
       "    </tr>\n",
       "    <tr>\n",
       "      <th>3</th>\n",
       "      <td>16090f2ca825584b5a147ab24aa30c86</td>\n",
       "      <td>1890.0</td>\n",
       "      <td>2310.0</td>\n",
       "      <td>-420.0</td>\n",
       "    </tr>\n",
       "    <tr>\n",
       "      <th>18</th>\n",
       "      <td>53e4c6e0f4312d4d2107a8c9cddf45cd</td>\n",
       "      <td>1120.0</td>\n",
       "      <td>1470.0</td>\n",
       "      <td>-350.0</td>\n",
       "    </tr>\n",
       "    <tr>\n",
       "      <th>10</th>\n",
       "      <td>2138ccb85b11a4ec1e37afbd1c8eda1f</td>\n",
       "      <td>630.0</td>\n",
       "      <td>820.0</td>\n",
       "      <td>-190.0</td>\n",
       "    </tr>\n",
       "    <tr>\n",
       "      <th>21</th>\n",
       "      <td>7040e82f899a04d1b434b795a43b4617</td>\n",
       "      <td>1130.0</td>\n",
       "      <td>1250.0</td>\n",
       "      <td>-120.0</td>\n",
       "    </tr>\n",
       "    <tr>\n",
       "      <th>31</th>\n",
       "      <td>8e6d7754bc7e0f22c96d255ebda59eba</td>\n",
       "      <td>0.0</td>\n",
       "      <td>100.0</td>\n",
       "      <td>-100.0</td>\n",
       "    </tr>\n",
       "    <tr>\n",
       "      <th>16</th>\n",
       "      <td>4c2b230173bb36f9b240f2b8ac11786e</td>\n",
       "      <td>0.0</td>\n",
       "      <td>90.0</td>\n",
       "      <td>-90.0</td>\n",
       "    </tr>\n",
       "    <tr>\n",
       "      <th>27</th>\n",
       "      <td>88460e8ebdecbfecb5f9601833981930</td>\n",
       "      <td>1850.0</td>\n",
       "      <td>1870.0</td>\n",
       "      <td>-20.0</td>\n",
       "    </tr>\n",
       "  </tbody>\n",
       "</table>\n",
       "</div>"
      ],
      "text/plain": [
       "                           seller_id  6-3 months costs  last 3 months costs  \\\n",
       "20  6560211a19b47992c3666cc44a7e94c0            6000.0              10640.0   \n",
       "48  f46490624488d3ff7ce78613913a7711            1470.0               2380.0   \n",
       "26  85d9eb9ddc5d00ca9336a2219c97bb13             580.0               1030.0   \n",
       "3   16090f2ca825584b5a147ab24aa30c86            1890.0               2310.0   \n",
       "18  53e4c6e0f4312d4d2107a8c9cddf45cd            1120.0               1470.0   \n",
       "10  2138ccb85b11a4ec1e37afbd1c8eda1f             630.0                820.0   \n",
       "21  7040e82f899a04d1b434b795a43b4617            1130.0               1250.0   \n",
       "31  8e6d7754bc7e0f22c96d255ebda59eba               0.0                100.0   \n",
       "16  4c2b230173bb36f9b240f2b8ac11786e               0.0                 90.0   \n",
       "27  88460e8ebdecbfecb5f9601833981930            1850.0               1870.0   \n",
       "\n",
       "    Improvement  \n",
       "20      -4640.0  \n",
       "48       -910.0  \n",
       "26       -450.0  \n",
       "3        -420.0  \n",
       "18       -350.0  \n",
       "10       -190.0  \n",
       "21       -120.0  \n",
       "31       -100.0  \n",
       "16        -90.0  \n",
       "27        -20.0  "
      ]
     },
     "execution_count": 86,
     "metadata": {},
     "output_type": "execute_result"
    }
   ],
   "source": [
    "worst_sellers_mr.sort_values('Improvement', ascending = True)[['seller_id', '6-3 months costs', 'last 3 months costs', \"Improvement\"]].head(10)"
   ]
  },
  {
   "cell_type": "code",
   "execution_count": 87,
   "metadata": {
    "slideshow": {
     "slide_type": "skip"
    }
   },
   "outputs": [],
   "source": [
    "cols = ['Improvement']\n",
    "worst_sellers_mr[cols] = worst_sellers_mr[worst_sellers_mr[cols] < 0][cols]\n",
    "worst_sellers_mr.reset_index(inplace = True)\n",
    "sellers_to_remove = worst_sellers_mr[['seller_id','Improvement']].copy()\n",
    "sellers_to_remove = sellers_to_remove.dropna()"
   ]
  },
  {
   "cell_type": "code",
   "execution_count": 88,
   "metadata": {
    "slideshow": {
     "slide_type": "skip"
    }
   },
   "outputs": [],
   "source": [
    "str_profits = sellers.merge(sellers_to_remove, on='seller_id').set_index('seller_id')"
   ]
  },
  {
   "cell_type": "markdown",
   "metadata": {
    "slideshow": {
     "slide_type": "subslide"
    }
   },
   "source": [
    "### Finnancial impact of removing sellers that are not improving"
   ]
  },
  {
   "cell_type": "markdown",
   "metadata": {},
   "source": [
    "Should we, from time to time (maybe each month?) remove sellers that are consistently underperforming and not showing signs of improvement?\n",
    "Maybe we should notify sellers that are performing worse now than in the months before. After a x number of notifications, we could exclude the seller from Olist"
   ]
  },
  {
   "cell_type": "code",
   "execution_count": 89,
   "metadata": {
    "slideshow": {
     "slide_type": "fragment"
    },
    "tags": [
     "remove_input"
    ]
   },
   "outputs": [
    {
     "data": {
      "text/plain": [
       "Savings on bad_reviews_costs:   -79971.0\n",
       "Revenue lost:                    43794.0\n",
       "Number of orders:                 5047.0\n",
       "dtype: float64"
      ]
     },
     "execution_count": 89,
     "metadata": {},
     "output_type": "execute_result"
    }
   ],
   "source": [
    "str_profits.agg = str_profits.agg({'profit_per_seller': 'sum','revenue_per_seller': 'sum', 'n_orders': 'sum'}).rename({'profit_per_seller': 'Savings on bad_reviews_costs:', 'revenue_per_seller': 'Revenue lost:', 'n_orders': 'Number of orders:'}).round()\n",
    "str_profits.agg"
   ]
  },
  {
   "cell_type": "markdown",
   "metadata": {
    "slideshow": {
     "slide_type": "subslide"
    }
   },
   "source": [
    "# Conclusion:"
   ]
  },
  {
   "cell_type": "markdown",
   "metadata": {
    "slideshow": {
     "slide_type": "fragment"
    }
   },
   "source": [
    "With multiple approachs (Removing categories that perform badly compared to the revenues they bring, and removing sellers that are generating high reviews costs and don't show signs of improving their performance) we could obtain better profit margins in the future."
   ]
  }
 ],
 "metadata": {
  "celltoolbar": "Slideshow",
  "kernelspec": {
   "display_name": "Python 3 (ipykernel)",
   "language": "python",
   "name": "python3"
  },
  "language_info": {
   "codemirror_mode": {
    "name": "ipython",
    "version": 3
   },
   "file_extension": ".py",
   "mimetype": "text/x-python",
   "name": "python",
   "nbconvert_exporter": "python",
   "pygments_lexer": "ipython3",
   "version": "3.8.12"
  },
  "toc": {
   "base_numbering": 1,
   "nav_menu": {},
   "number_sections": true,
   "sideBar": true,
   "skip_h1_title": false,
   "title_cell": "Table of Contents",
   "title_sidebar": "Contents",
   "toc_cell": false,
   "toc_position": {},
   "toc_section_display": true,
   "toc_window_display": false
  }
 },
 "nbformat": 4,
 "nbformat_minor": 4
}
